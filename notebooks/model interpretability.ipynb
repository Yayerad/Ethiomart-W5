{
 "cells": [
  {
   "cell_type": "code",
   "execution_count": null,
   "metadata": {},
   "outputs": [],
   "source": [
    "# Step 1: Install Required Libraries\n",
    "!pip install shap lime"
   ]
  },
  {
   "cell_type": "code",
   "execution_count": null,
   "metadata": {},
   "outputs": [],
   "source": [
    "# Step 2: Load the Fine-Tuned Model and Tokenizer\n",
    "from transformers import AutoTokenizer, AutoModelForTokenClassification\n",
    "\n",
    "model = AutoModelForTokenClassification.from_pretrained(\"fine_tuned_model\")\n",
    "tokenizer = AutoTokenizer.from_pretrained(\"fine_tuned_model\")\n"
   ]
  },
  {
   "cell_type": "code",
   "execution_count": null,
   "metadata": {},
   "outputs": [],
   "source": [
    "# Step 3: Prepare a Sample Input\n",
    "sample_text = \"ለኮንዶሚኒየም ለጠባብ ቤቶች ገላግሌ የሆነ ከንፁህ የሲልከን ጥሬ እቃ የተሰራ የልጆች ማጠቢያ ምስሉ ላይ እንደሚያዩት መታጠፍ መዘርጋት የሚችል 3350ብር ይደውሉልን\"\n"
   ]
  },
  {
   "cell_type": "code",
   "execution_count": null,
   "metadata": {},
   "outputs": [],
   "source": [
    "# Step 4: Interpret Predictions with SHAP\n",
    "import shap\n",
    "\n",
    "# Define a prediction function for SHAP\n",
    "def predict_ner(texts):\n",
    "    inputs = tokenizer(texts, return_tensors=\"pt\", padding=True, truncation=True, is_split_into_words=False)\n",
    "    outputs = model(**inputs).logits\n",
    "    return outputs.detach().numpy()\n",
    "\n",
    "# Initialize SHAP explainer\n",
    "explainer = shap.Explainer(predict_ner, tokenizer)\n",
    "\n",
    "# Compute SHAP values for the sample text\n",
    "shap_values = explainer([sample_text])\n",
    "\n",
    "# Visualize SHAP values\n",
    "print(\"SHAP Visualization:\")\n",
    "shap.plots.text(shap_values)"
   ]
  },
  {
   "cell_type": "code",
   "execution_count": null,
   "metadata": {},
   "outputs": [],
   "source": [
    "# Step 5: Interpret Predictions with LIME\n",
    "from lime.lime_text import LimeTextExplainer\n",
    "\n",
    "# Initialize LIME explainer\n",
    "explainer_lime = LimeTextExplainer(class_names=list(id2label.values()))\n",
    "\n",
    "# Define a prediction function for LIME\n",
    "def predict_proba(texts):\n",
    "    inputs = tokenizer(texts, return_tensors=\"pt\", padding=True, truncation=True, is_split_into_words=False)\n",
    "    outputs = model(**inputs).logits\n",
    "    return outputs.softmax(dim=-1).detach().numpy()\n",
    "\n",
    "# Explain the sample text\n",
    "exp = explainer_lime.explain_instance(sample_text, predict_proba, num_features=10, top_labels=3)\n",
    "\n",
    "# Display the LIME explanation\n",
    "print(\"LIME Visualization:\")\n",
    "exp.show_in_notebook()"
   ]
  },
  {
   "cell_type": "code",
   "execution_count": null,
   "metadata": {},
   "outputs": [],
   "source": [
    "# Step 6: Analyze Difficult Cases\n",
    "difficult_text = \"በ1000 ብር የሚሸጥ ስልክ በገለገለ ውስጥ ይገኛል\"\n",
    "\n",
    "# Apply SHAP to the difficult case\n",
    "shap_values_difficult = explainer([difficult_text])\n",
    "print(\"SHAP Visualization for Difficult Case:\")\n",
    "shap.plots.text(shap_values_difficult)\n",
    "\n",
    "# Apply LIME to the difficult case\n",
    "exp_difficult = explainer_lime.explain_instance(difficult_text, predict_proba, num_features=10, top_labels=3)\n",
    "print(\"LIME Visualization for Difficult Case:\")\n",
    "exp_difficult.show_in_notebook()\n",
    "\n"
   ]
  },
  {
   "cell_type": "code",
   "execution_count": null,
   "metadata": {},
   "outputs": [],
   "source": [
    "# Step 7: Save Interpretability Results\n",
    "# Save SHAP visualization\n",
    "shap.plots.text(shap_values, show=False).savefig(\"shap_visualization.png\")\n",
    "\n",
    "# Save LIME visualization\n",
    "exp.save_to_file(\"lime_visualization.html\")\n",
    "\n",
    "print(\"Interpretability results saved successfully!\")"
   ]
  }
 ],
 "metadata": {
  "kernelspec": {
   "display_name": ".venv",
   "language": "python",
   "name": "python3"
  },
  "language_info": {
   "codemirror_mode": {
    "name": "ipython",
    "version": 3
   },
   "file_extension": ".py",
   "mimetype": "text/x-python",
   "name": "python",
   "nbconvert_exporter": "python",
   "pygments_lexer": "ipython3",
   "version": "3.13.1"
  }
 },
 "nbformat": 4,
 "nbformat_minor": 2
}
